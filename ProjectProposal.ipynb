{
 "cells": [
  {
   "cell_type": "markdown",
   "metadata": {},
   "source": [
    "# COGS 108 - Project Proposal"
   ]
  },
  {
   "cell_type": "markdown",
   "metadata": {},
   "source": [
    "## Important\n",
    "\n",
    "- Make sure all group members (3-5 people) are listed in the group members section.\n",
    "- ONE, and only one, member of your group should upload this notebook to TritonED. \n",
    "- Each member of the group will receive the same grade on this assignment. \n",
    "- Keep the file name the same: submit the file 'ProjectProposal.ipynb'"
   ]
  },
  {
   "cell_type": "markdown",
   "metadata": {},
   "source": [
    "## Overview"
   ]
  },
  {
   "cell_type": "markdown",
   "metadata": {},
   "source": [
    "Read the project description and detailed instructions for this assignment in the 'ProjectOutline' document."
   ]
  },
  {
   "cell_type": "markdown",
   "metadata": {},
   "source": [
    "## Group Members: Fill in the Student IDs of each group member here\n",
    "\n",
    "Replace the lines below to list each persons full student ID. Add lines as needed for your group size, and make sure each ID is listed on a separate line. \n",
    "\n",
    "- A92046642 Yingjing Xia\n",
    "- A92113764 Fangzheng Zhao\n",
    "- A14748203 Angela Ray"
   ]
  },
  {
   "cell_type": "markdown",
   "metadata": {},
   "source": [
    "### Research Question\n",
    "\n",
    "What is your research question? (1-2 sentences)"
   ]
  },
  {
   "cell_type": "markdown",
   "metadata": {},
   "source": [
    "Does an upward development in economy predict the progress in women’s rights in developing countries? "
   ]
  },
  {
   "cell_type": "markdown",
   "metadata": {},
   "source": [
    "### Hypothesis\n",
    "\n",
    "What is your main hypothesis and predictions? (2-3 sentences)"
   ]
  },
  {
   "cell_type": "markdown",
   "metadata": {},
   "source": [
    "the most significant improvement in women’s rights would be seen in developing countries following an increase in trade and national income. "
   ]
  },
  {
   "cell_type": "markdown",
   "metadata": {},
   "source": [
    "### Dataset(s)\n",
    "\n",
    "What data will you use to answer your question? Describe the dataset(s) in terms of number of observations, what kind of features it contains, etc. You must use at least one dataset containing at least approximately 1000 observations (if your data are smaller but you feel they are sufficient, email Prof. Voytek). You are welcome (and in fact recommended) to find multiple datasets! If you do so, describe each one, and briefly explain how you will combine them together. "
   ]
  },
  {
   "cell_type": "markdown",
   "metadata": {},
   "source": [
    "*Fill in your dataset information here*\n",
    "\n",
    "(Copy this information for each dataset)\n",
    "- Dataset Name: The Human Freedom Index\n",
    "- Link to the dataset:https://www.kaggle.com/gsutters/the-human-freedom-index\n",
    "- Number of observations: 1458\n",
    "\n",
    "1-2 sentences describing the dataset. \n",
    "\n",
    "The Human Freedom Index presents a broad measure of human freedom, understood as the absence of coercive constraint. This dataset covers 162 countries from the year of 2008 to 2016. Each country is rated with 79 distinctive indicators. \n",
    "\n",
    "If you plan to use multiple datasets, add 1-2 sentences about how you plan to combine these datasets."
   ]
  },
  {
   "cell_type": "markdown",
   "metadata": {},
   "source": [
    "### Background and Prior Work\n",
    "\n",
    "Why is this question of interest, what background information led you to your hypothesis, and why is this important?\n",
    "\n",
    "Find some relevant prior work, and reference those sources. Even if you think you have a totally novel question, find the most similar prior work that you can and discuss how it relates to your project. \n",
    "\n",
    "References can be research publications, but they need not be. Blogs, github repositories, company websites, etc., are all viable references if they are relevant to your project.\n",
    "\n",
    "(2-3 paragraphs, including at least 2 references)"
   ]
  },
  {
   "cell_type": "markdown",
   "metadata": {},
   "source": [
    "*Fill in your background and prior work here* \n",
    "\n",
    "    Despite the global progress that has been made on women’s rights in the past couple decades, women’s rights still deserve our attention, especially in developing regions. Higher mortality rate of women compared to that of men still persists in some Asian and African countries, due to reasons such as female infanticide and comparative neglect of female health and nutrition caused by patriarchal bias in traditional values (Sen, 1992; Bunch, 1990). However, recent years have witnessed a positive shift of women’s rights in these developing regions due to the changes of roles that developing countries play within the global economy. \n",
    "    \n",
    "    As industries move their labor-intensive manufacturing from developed countries to developing countries to take advantage of the cheaper labor, an unprecedented need for unskilled, stable but inexpensive workers emerged in these developing countries. The new labor market provided employment opportunities for women in developing countries who were previously confined to their home and worked as unpaid labor in a family setting. The relatively steady pay from the factory jobs in ‘sweatshops’ has the potential of elevating the financial status of women in these regions (Kabeer, 2004). \n",
    "    \n",
    "    An improvement in economic status could aid women in these regions to combat the restrictions imposed on them by the conservative social environment. For example, in Bangladesh, a predominantly agriculture dependent country where half of the population still struggled with poverty, the rise of garment factories provided employment opportunities for women who were previously confined to domestic settings and were provided very limited choices for earning their own living due to cultural restrictions and discriminations at the market place (Kabeer, 2004). Although the working conditions are still very hostile, with long hours, mistreatments from employers, and delayed pay, female garment workers interviewed expressed the opinion that the new-found financial power allows them to renegotiate their marriage relationship, gain self-confidence, and build social networks outside of a domestic setting. Similarly, researchers have found that employment opportunities in labor-intensive manufacturing factories aid women to pursue their relative freedom in Latin America, Southern China, and Turkey, despite the general hostile working conditions judged by Western standards. \n",
    "    \n",
    "    With the support of the findings in previous literature, we would like to further investigate whether an upward development in economy in general helps with the progress of women’s rights, due to a potential increase in employment opportunities and subsequently an improvement of social environment. We would predict that the most significant improvement in women’s rights would be seen in developing countries following an increase in trade and national income. \n",
    "\n",
    "References (include links):\n",
    "- 1)Bunch, Charlotte. \"Women's rights as human rights: Toward a re-vision of human rights.\" Hum. Rts. Q. 12 (1990): 486.https://heinonline.org/HOL/Page?handle=hein.journals/hurq12&div=40&g_sent=1&casa_token=0EMWTuk0MCkAAAAA:lwjCWw_Z-eo3ZuDdgaFZwxmAyFicHRMmvoBehQRbxe4wgrd-bZM5ENHEZ1Uwb1dVtY23l2w79g&collection=journals \n",
    "- 2)Kabeer, Naila. \"Globalization, labor standards, and women's rights: dilemmas of collective (in) action in an interdependent world.\" Feminist Economics 10.1 (2004): 3-35. https://www.tandfonline.com/doi/abs/10.1080/1354570042000198227\n",
    "- 3)Sen, Amartya. \"Missing women.\" BMJ: British Medical Journal304.6827 (1992): 587. https://www.ncbi.nlm.nih.gov/pmc/articles/PMC1881324/ "
   ]
  },
  {
   "cell_type": "markdown",
   "metadata": {},
   "source": [
    "### Proposed Methods\n",
    "\n",
    "What methods will you use to analyze your data?\n",
    "\n",
    "- How 'clean' is the data? To the extent that it requires cleaning, how will you do so?\n",
    "- How will you analyze the data? Be as specific as you can. Briefly mention any pre-processing steps that are required for your methods (for example, checking data distributions and performing any transformations that may be required). Include a brief outline of how you will apply your chosen method(s). \n",
    "- What do you plan to report? Briefly mention any key visualizations you plan to create, and/or the kind of results you will be able to report that address your question (this could be, for example, the outcome of some statistical test(s), prediction error on a model, a model fit parameter, etc.).\n",
    "- Include a list of packages you expect to use for you project. If you plan to use packages we have not used in class, add a very brief description about them (a few words is sufficient). "
   ]
  },
  {
   "cell_type": "markdown",
   "metadata": {},
   "source": [
    "*Fill in your proposed methods information here:*\n",
    "\n",
    "*Data Cleaning (2-3 sentences)*\n",
    "For women's rights, we decided to investigate the following specific indices: women's security, women's movement, parental rights in marriage, inheritance rights for widows, and inheritance rights for daughters. To evaluate the wealth of the nations, we decided to investigate the following indices: revenue from trade taxes, compliance costs of importing and exporting, and government tax income. We are going to remove unrelated variables from the original dataset and then exclude developed countries from our analysis. \n",
    "\n",
    "*Data Analysis (1-2 paragraphs)*\n",
    "First, we are going to drop the countries that have missing data on the target index categories. Then, we are planning to stack the variables and then recode new variables by subtracting the previous year’s index from the more current one to reflect changes (e.g. Revenue from trade taxes 2012 - revenue from trade taxes 2008). We are going to calculate the pearson correlations between these variables of change scores. We are also planning to use linear regression model with a composite score of changes in women’s rights as the outcome and changes in economic factors as predictors. For linear regression, the score of changes would be calculated by subtracting the same index score of year 2008 from the most current index score of year 2016. \n",
    "\n",
    "*What to report (2-3 sentences)*\n",
    "We are going to report the results of correlation analysis and regression analysis. We are going to present descriptive statistics of the changes of scores in histogram for each index category. We are also going to use scatterplot with fitted regression line to visualize our regression model. \n",
    "\n",
    "Packages we plan to use:\n",
    "- a matplotlib.pyplot\n",
    "- b seaborn\n",
    "- c numpy\n",
    "- d pandas"
   ]
  },
  {
   "cell_type": "markdown",
   "metadata": {},
   "source": [
    "### Ethics and Privacy\n",
    "\n",
    "Briefly acknowledge and address any potential issues of ethics and privacy for the proposed project. In particular:\n",
    "- Do you have permission to use this data, for this purpose?\n",
    "- Are there privacy concerns regarding your datasets that you need to deal with, and/or terms of use that you need to comply with?\n",
    "- Are there potential biases in your dataset(s), in terms of who it composes, and how it was collected, that may be problematic in terms of it allowing for equitable analysis? (For example, does your data exclude particular populations, or is it likely to reflect particular human biases in a way that could be a problem?) \n",
    "- Are there any other issues related to your topic area, data, and/or analyses that are potentially problematic in terms of data privacy and equitable impact?\n",
    "- How will you handle any issues you identify?\n",
    "\n",
    "(1-2 paragraphs)\n",
    "\n"
   ]
  },
  {
   "cell_type": "raw",
   "metadata": {},
   "source": [
    "    This dataset is from Kaggle Open Dataset; therefore, we do not need to acquire to acquire any specific permission to use this dataset. Moreover, since the dataset only includes indices about countries, the dataset does not risk exposing any private information of any individual in particular or any potential sensitive information involving national security. Some countries are not included in the dataset, such as North Korea, Iraq, and Somalia, which can be a potential bias when we are analysing all of the developing countries as a whole. However, we do not have control over the missing data and therefore we would not be able to solve this issue. We do not think that that the lack of information on these countries will significantly influence our results, considering the relatively small number of missing data. Currently we do not foresee any potential harm or privacy issues that might be caused by our usage of this dataset in the future. "
   ]
  },
  {
   "cell_type": "markdown",
   "metadata": {},
   "source": [
    "### Discussion\n",
    "\n",
    "Discuss your project, looking forward to what your results might mean, how they fit it in with what is already known, and what problems you may encounter. \n",
    "\n",
    "In particular:\n",
    "- If your analyses and hypotheses are correct, what will be the contribution of this project to the topic domain? \n",
    "- Alternatively, what will you do if you methods don't work and/or your hypotheses are wrong? \n",
    "- What are the potential pitfalls and potential confounds of your data and/or methods that may cause problems, and/or influence your interpretations?\n",
    "\n",
    " "
   ]
  },
  {
   "cell_type": "markdown",
   "metadata": {},
   "source": [
    "*Fill in your discussion information here*\n",
    "\n",
    "    If our hypothesis is correct, it would mean that labor-intensive manufacturing industries in developing countries do predict with improving women's rights in these regions by providing women with more financial freedom. This information could provide directions for future interventions of improving women's rights in places where women's rights are historically neglected. For example, if manufacturing jobs in 'sweatshops' actually help these female workers to maintain their relative freedom, international organizations should be cautious about applying a universal payrate standard or working condition standard, since these forced interventions, despite being well-intended, could take away the 'competitive edge' of these unskilled women workers and therefore cause them to lose their jobs. \n",
    "    One potential pitfall of this study is that we do not have a comprehensive measure for women's financial freedom specifically or women's average income in these countries. Therefore, if the methods don’t work, we can find some other datasets with comprehensive measures of women’s financial freedom (i.e. women's incomes, etc.) and compare these data with this dataset to see whether there are any more significant relationships. If the data does not show significant relationship between national income and women’s rights, it could mean that women were not able to reap their part of increase of national wealth and the manufacturing jobs did not significantly improve their life condition. Therefore, it might suggest that future international intervention for women’s rights in these regions should focus on how to create more employment opportunities for women specifically in these regions so that women could reap these financial benefits in the future. "
   ]
  }
 ],
 "metadata": {
  "kernelspec": {
   "display_name": "Python 3",
   "language": "python",
   "name": "python3"
  },
  "language_info": {
   "codemirror_mode": {
    "name": "ipython",
    "version": 3
   },
   "file_extension": ".py",
   "mimetype": "text/x-python",
   "name": "python",
   "nbconvert_exporter": "python",
   "pygments_lexer": "ipython3",
   "version": "3.7.1"
  }
 },
 "nbformat": 4,
 "nbformat_minor": 2
}
